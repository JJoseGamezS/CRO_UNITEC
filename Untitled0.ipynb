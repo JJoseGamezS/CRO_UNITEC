{
  "nbformat": 4,
  "nbformat_minor": 0,
  "metadata": {
    "colab": {
      "provenance": []
    },
    "kernelspec": {
      "name": "python3",
      "display_name": "Python 3"
    },
    "language_info": {
      "name": "python"
    }
  },
  "cells": [
    {
      "cell_type": "markdown",
      "source": [
        "Hola"
      ],
      "metadata": {
        "id": "3jb0HH0vYLYT"
      }
    },
    {
      "cell_type": "code",
      "execution_count": 3,
      "metadata": {
        "colab": {
          "base_uri": "https://localhost:8080/"
        },
        "id": "5iNnM6BpX0jm",
        "outputId": "8874a059-7cca-45f0-fb07-17e3b11a85ef"
      },
      "outputs": [
        {
          "output_type": "stream",
          "name": "stdout",
          "text": [
            "  col1 col2\n",
            "0  NaN  NaN\n",
            "1  NaN  NaN\n",
            "2  NaN  NaN\n",
            "3  NaN  NaN\n",
            "4  NaN  NaN\n",
            "5  NaN  NaN\n",
            "6  NaN  NaN\n",
            "7  NaN  NaN\n",
            "8  NaN  NaN\n",
            "9  NaN  NaN\n"
          ]
        }
      ],
      "source": [
        "# prompt: create a dataframe with 2 columns and 10 rows\n",
        "\n",
        "import pandas as pd\n",
        "df = pd.DataFrame(index=range(10),columns=['col1','col2'])\n",
        "print(df)\n"
      ]
    },
    {
      "cell_type": "code",
      "source": [
        "# prompt: 10 random numbers using numpy\n",
        "\n",
        "import numpy as np\n",
        "rand_nums = np.random.rand(10)\n",
        "print(rand_nums)\n"
      ],
      "metadata": {
        "colab": {
          "base_uri": "https://localhost:8080/"
        },
        "id": "HALo5tTFX9BK",
        "outputId": "ba6d87b8-9fbb-4da4-effe-f34adf30f236"
      },
      "execution_count": 2,
      "outputs": [
        {
          "output_type": "stream",
          "name": "stdout",
          "text": [
            "[0.65520156 0.29752187 0.4998563  0.01217718 0.61758316 0.43225693\n",
            " 0.09861921 0.73056204 0.10747668 0.66670343]\n"
          ]
        }
      ]
    }
  ]
}